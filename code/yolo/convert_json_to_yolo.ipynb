{
 "cells": [
  {
   "cell_type": "code",
   "execution_count": 1,
   "metadata": {},
   "outputs": [
    {
     "name": "stderr",
     "output_type": "stream",
     "text": [
      "Processing ../../dataset/train_80.json: 100%|██████████| 58423/58423 [00:04<00:00, 13145.07it/s]\n",
      "Processing ../../dataset/val_20.json: 100%|██████████| 14270/14270 [00:01<00:00, 11110.82it/s]"
     ]
    },
    {
     "name": "stdout",
     "output_type": "stream",
     "text": [
      "이미지 복사 및 YOLO 라벨 파일 생성이 완료되었습니다.\n"
     ]
    },
    {
     "name": "stderr",
     "output_type": "stream",
     "text": [
      "\n"
     ]
    }
   ],
   "source": [
    "import json\n",
    "import os\n",
    "import shutil\n",
    "from tqdm import tqdm  # tqdm 추가\n",
    "\n",
    "# 경로 설정\n",
    "source_image_dir = '../../dataset/train'  # 원래 이미지들이 저장된 디렉토리\n",
    "train_image_dir = '../../dataset/yolo_train80/images'\n",
    "val_image_dir = '../../dataset/yolo_val20/images'\n",
    "train_label_dir = '../../dataset/yolo_train80/labels'\n",
    "val_label_dir = '../../dataset/yolo_val20/labels'\n",
    "\n",
    "# 디렉토리 생성 (존재하지 않으면 생성)\n",
    "os.makedirs(train_image_dir, exist_ok=True)\n",
    "os.makedirs(val_image_dir, exist_ok=True)\n",
    "os.makedirs(train_label_dir, exist_ok=True)\n",
    "os.makedirs(val_label_dir, exist_ok=True)\n",
    "\n",
    "# 이미지 크기 설정 (데이터셋에 맞게 설정)\n",
    "image_width = 1024  # 실제 이미지 가로 크기\n",
    "image_height = 1024  # 실제 이미지 세로 크기\n",
    "\n",
    "# YOLO 형식으로 변환 및 이미지 복사\n",
    "def coco_to_yolo(json_path, image_dir, label_dir):\n",
    "    with open(json_path, 'r') as f:\n",
    "        coco_data = json.load(f)\n",
    "\n",
    "    # 이미지 ID와 해당 이미지 파일명을 매핑\n",
    "    image_id_to_filename = {img['id']: img['file_name'] for img in coco_data['images']}\n",
    "    image_id_to_size = {img['id']: (img['width'], img['height']) for img in coco_data['images']}\n",
    "\n",
    "    # 어노테이션 데이터를 처리\n",
    "    for ann in tqdm(coco_data['annotations'], desc=f\"Processing {json_path}\"):\n",
    "        image_id = ann['image_id']\n",
    "        category_id = ann['category_id']  # class_id\n",
    "        bbox = ann['bbox']  # COCO 형식의 bbox (xmin, ymin, width, height)\n",
    "\n",
    "        # COCO 형식의 bbox를 YOLO 형식으로 변환\n",
    "        xmin, ymin, width, height = bbox\n",
    "        img_width, img_height = image_id_to_size[image_id]\n",
    "        center_x = (xmin + width / 2) / img_width\n",
    "        center_y = (ymin + height / 2) / img_height\n",
    "        norm_width = width / img_width\n",
    "        norm_height = height / img_height\n",
    "\n",
    "        # YOLO 라벨 파일 경로 생성 및 디렉토리 확인\n",
    "        label_file_path = os.path.join(label_dir, f'{image_id_to_filename[image_id].split(\".\")[0].split(\"/\")[1]}.txt')\n",
    "        os.makedirs(os.path.dirname(label_file_path), exist_ok=True)  # 디렉토리 생성\n",
    "\n",
    "        # # YOLO 라벨 파일 작성\n",
    "        with open(label_file_path, 'a') as yolo_file:  # 같은 이미지에 여러 개체가 있을 수 있으므로 append 모드\n",
    "            yolo_file.write(f'{category_id} {center_x} {center_y} {norm_width} {norm_height}\\n')\n",
    "\n",
    "        \n",
    "        # # 이미지 파일 복사\n",
    "        source_image_path = os.path.join(source_image_dir, image_id_to_filename[image_id].split(\"/\")[1])\n",
    "        target_image_path = os.path.join(image_dir, image_id_to_filename[image_id].split(\"/\")[1])\n",
    "        if not os.path.exists(target_image_path):  # 이미 복사된 이미지라면 다시 복사하지 않음\n",
    "            shutil.copy(source_image_path, target_image_path)\n",
    "\n",
    "\n",
    "# train.json에서 라벨 파일 생성 및 이미지 복사\n",
    "coco_to_yolo(\"../../dataset/train_80.json\", train_image_dir, train_label_dir)\n",
    "\n",
    "# val.json에서 라벨 파일 생성 및 이미지 복사\n",
    "coco_to_yolo(\"../../dataset/val_20.json\", val_image_dir, val_label_dir)\n",
    "\n",
    "print(\"이미지 복사 및 YOLO 라벨 파일 생성이 완료되었습니다.\")"
   ]
  }
 ],
 "metadata": {
  "kernelspec": {
   "display_name": "base",
   "language": "python",
   "name": "python3"
  },
  "language_info": {
   "codemirror_mode": {
    "name": "ipython",
    "version": 3
   },
   "file_extension": ".py",
   "mimetype": "text/x-python",
   "name": "python",
   "nbconvert_exporter": "python",
   "pygments_lexer": "ipython3",
   "version": "3.10.13"
  }
 },
 "nbformat": 4,
 "nbformat_minor": 2
}
