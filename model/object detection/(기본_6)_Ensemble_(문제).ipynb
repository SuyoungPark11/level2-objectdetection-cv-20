{
  "cells": [
    {
      "cell_type": "markdown",
      "metadata": {
        "id": "4t8WN3ydCHIO"
      },
      "source": [
        "# Object Detection - (기본-6) Ensemble\n",
        "#### Ensemble\n",
        "앙상블은 최종 아웃풋의 품질과 가장 직접적으로 연관이 있고, 시간 대비 좋은 결과를 낼 수 있는 방법입니다! <br>\n",
        "지금까지 학습시킨 모델들을 Sample Submission을 이용해 앙상블 코드를 작성하고, 다양한 결과를 직접 확인해봅시다\n",
        "<br> 🌟Ensemble의 자세한 내용은 09강: Ready for Competition 강의를 참고합니다."
      ]
    },
    {
      "cell_type": "markdown",
      "metadata": {
        "id": "e0NRKyCRCjZs"
      },
      "source": [
        "## 대회 데이터셋 구성\n",
        "Custom 데이터를 구현하여 대회 데이터셋에 Ensemble 방법을 적용해봅니다. <br>\n",
        "데이터셋의 자세한 개요는 [대회 플랫폼](https://stages.ai/competitions/325/data/overview)의 데이터 설명을 참고합니다.\n",
        "> Copyright: CC BY 2.0\n",
        "\n",
        "### dataset\n",
        "    ├── train.json\n",
        "    ├── test.json\n",
        "    ├── train\n",
        "    └── test"
      ]
    },
    {
      "cell_type": "code",
      "execution_count": 1,
      "metadata": {
        "collapsed": true,
        "id": "FX4DX0edcVoE"
      },
      "outputs": [
        {
          "name": "stdout",
          "output_type": "stream",
          "text": [
            "Collecting ensemble_boxes\n",
            "  Obtaining dependency information for ensemble_boxes from https://files.pythonhosted.org/packages/0e/5b/58e47cd45fc18da37205a80689606e0e203810f1beadbdaae620f491892b/ensemble_boxes-1.0.9-py3-none-any.whl.metadata\n",
            "  Downloading ensemble_boxes-1.0.9-py3-none-any.whl.metadata (728 bytes)\n",
            "Requirement already satisfied: numpy in /opt/conda/lib/python3.10/site-packages (from ensemble_boxes) (1.26.4)\n",
            "Requirement already satisfied: pandas in /opt/conda/lib/python3.10/site-packages (from ensemble_boxes) (1.3.5)\n",
            "Collecting numba (from ensemble_boxes)\n",
            "  Obtaining dependency information for numba from https://files.pythonhosted.org/packages/79/58/cb4ac5b8f7ec64200460aef1fed88258fb872ceef504ab1f989d2ff0f684/numba-0.60.0-cp310-cp310-manylinux2014_x86_64.manylinux_2_17_x86_64.whl.metadata\n",
            "  Downloading numba-0.60.0-cp310-cp310-manylinux2014_x86_64.manylinux_2_17_x86_64.whl.metadata (2.7 kB)\n",
            "Collecting llvmlite<0.44,>=0.43.0dev0 (from numba->ensemble_boxes)\n",
            "  Obtaining dependency information for llvmlite<0.44,>=0.43.0dev0 from https://files.pythonhosted.org/packages/c6/21/2ffbab5714e72f2483207b4a1de79b2eecd9debbf666ff4e7067bcc5c134/llvmlite-0.43.0-cp310-cp310-manylinux_2_17_x86_64.manylinux2014_x86_64.whl.metadata\n",
            "  Downloading llvmlite-0.43.0-cp310-cp310-manylinux_2_17_x86_64.manylinux2014_x86_64.whl.metadata (4.8 kB)\n",
            "Requirement already satisfied: python-dateutil>=2.7.3 in /opt/conda/lib/python3.10/site-packages (from pandas->ensemble_boxes) (2.8.2)\n",
            "Requirement already satisfied: pytz>=2017.3 in /opt/conda/lib/python3.10/site-packages (from pandas->ensemble_boxes) (2023.3.post1)\n",
            "Requirement already satisfied: six>=1.5 in /opt/conda/lib/python3.10/site-packages (from python-dateutil>=2.7.3->pandas->ensemble_boxes) (1.16.0)\n",
            "Downloading ensemble_boxes-1.0.9-py3-none-any.whl (23 kB)\n",
            "Downloading numba-0.60.0-cp310-cp310-manylinux2014_x86_64.manylinux_2_17_x86_64.whl (3.7 MB)\n",
            "\u001b[2K   \u001b[90m━━━━━━━━━━━━━━━━━━━━━━━━━━━━━━━━━━━━━━━━\u001b[0m \u001b[32m3.7/3.7 MB\u001b[0m \u001b[31m3.8 MB/s\u001b[0m eta \u001b[36m0:00:00\u001b[0m00:01\u001b[0m00:01\u001b[0m0m\n",
            "\u001b[?25hDownloading llvmlite-0.43.0-cp310-cp310-manylinux_2_17_x86_64.manylinux2014_x86_64.whl (43.9 MB)\n",
            "\u001b[2K   \u001b[90m━━━━━━━━━━━━━━━━━━━━━━━━━━━━━━━━━━━━━━━━\u001b[0m \u001b[32m43.9/43.9 MB\u001b[0m \u001b[31m12.7 MB/s\u001b[0m eta \u001b[36m0:00:00\u001b[0m00:01\u001b[0m00:01\u001b[0m\n",
            "\u001b[?25hInstalling collected packages: llvmlite, numba, ensemble_boxes\n",
            "Successfully installed ensemble_boxes-1.0.9 llvmlite-0.43.0 numba-0.60.0\n",
            "\u001b[33mWARNING: Running pip as the 'root' user can result in broken permissions and conflicting behaviour with the system package manager. It is recommended to use a virtual environment instead: https://pip.pypa.io/warnings/venv\u001b[0m\u001b[33m\n",
            "\u001b[0m"
          ]
        }
      ],
      "source": [
        "!pip install ensemble_boxes"
      ]
    },
    {
      "cell_type": "code",
      "execution_count": 2,
      "metadata": {
        "id": "9gQvhOSxCFb1"
      },
      "outputs": [],
      "source": [
        "import pandas as pd\n",
        "import numpy as np\n",
        "from ensemble_boxes import nms\n",
        "from pycocotools.coco import COCO"
      ]
    },
    {
      "cell_type": "code",
      "execution_count": 5,
      "metadata": {
        "id": "opgAs-9GCFb2"
      },
      "outputs": [],
      "source": [
        "# ensemble csv files\n",
        "submission_files = ['../sample_submission/faster_rcnn_torchvision_submission.csv',\n",
        "                   '../sample_submission/faster_rcnn_mmdetection_submission.csv']\n",
        "submission_df = [pd.read_csv(file) for file in submission_files]"
      ]
    },
    {
      "cell_type": "code",
      "execution_count": 6,
      "metadata": {
        "id": "GEH0AK1yCFb3"
      },
      "outputs": [],
      "source": [
        "image_ids = submission_df[0]['image_id'].tolist()"
      ]
    },
    {
      "cell_type": "code",
      "execution_count": 7,
      "metadata": {
        "colab": {
          "base_uri": "https://localhost:8080/"
        },
        "id": "CrnHsBkGCFb3",
        "outputId": "9ab789a1-d498-4c7f-fdb1-9e1c957a3cf5"
      },
      "outputs": [
        {
          "name": "stdout",
          "output_type": "stream",
          "text": [
            "loading annotations into memory...\n",
            "Done (t=0.01s)\n",
            "creating index...\n",
            "index created!\n"
          ]
        }
      ],
      "source": [
        "# ensemble 할 file의 image 정보를 불러오기 위한 json\n",
        "annotation = '../../dataset/test.json'\n",
        "coco = COCO(annotation)"
      ]
    },
    {
      "cell_type": "markdown",
      "metadata": {
        "id": "E5-o3oADgo3M"
      },
      "source": [
        "###💡 Ensemble 구현하기\n",
        "한글 주석을 참고하여 `'코드 추가'` 에 코드를 추가해 주시면 됩니다! (어려우신 경우 강의와 정답코드를 참고해서 추가해주세요~)\n",
        "1. submission_files에서 boxes, scores, labels 정보 가져오기\n",
        "2. NMS를 위해 boxes 정보를 image 크기(height, width)로 정규화\n",
        "3. NMS 함수를 사용하여 ensemble 수행 후 결과 파일 생성\n"
      ]
    },
    {
      "cell_type": "code",
      "execution_count": 8,
      "metadata": {
        "id": "bxNjAo3hCFb4"
      },
      "outputs": [],
      "source": [
        "prediction_strings = []\n",
        "file_names = []\n",
        "# ensemble 시 설정할 iou threshold 이 부분을 바꿔가며 대회 metric에 알맞게 적용해봐요!\n",
        "iou_thr = 0.4\n",
        "\n",
        "# 각 image id 별로 submission file에서 box좌표 추출\n",
        "for i, image_id in enumerate(image_ids):\n",
        "    prediction_string = ''\n",
        "    boxes_list = []\n",
        "    scores_list = []\n",
        "    labels_list = []\n",
        "    image_info = coco.loadImgs(i)[0]\n",
        "    # 각 submission file 별로 prediction box좌표 불러오기\n",
        "    for df in submission_df:\n",
        "        predict_string = df[df['image_id'] == image_id]['PredictionString'].tolist()[0]\n",
        "        predict_list = str(predict_string).split()\n",
        "\n",
        "        if len(predict_list)==0 or len(predict_list)==1:\n",
        "            continue\n",
        "\n",
        "        predict_list = np.reshape(predict_list, (-1, 6))\n",
        "        box_list = []\n",
        "\n",
        "        for box in predict_list[:, 2:6].tolist():\n",
        "            # box의 각 좌표를 float형으로 변환한 후 image의 넓이와 높이로 각각 정규화\n",
        "            image_width = image_info['width']\n",
        "            image_height = image_info['height']\n",
        "            box[0] = float(box[0]) / image_width\n",
        "            box[1] = float(box[1]) / image_height\n",
        "            box[2] = float(box[2]) / image_width\n",
        "            box[3] = float(box[3]) / image_height\n",
        "            box_list.append(box)\n",
        "\n",
        "        boxes_list.append(box_list)\n",
        "        scores_list.append(list(map(float, predict_list[:, 1].tolist())))\n",
        "        labels_list.append(list(map(int, predict_list[:, 0].tolist())))\n",
        "\n",
        "    # 예측 box가 있다면 이를 ensemble 수행\n",
        "    if len(boxes_list):\n",
        "        # ensemble_boxes에서 import한 nms()를 사용하여 NMS 계산 수행\n",
        "        # 👉 위의 코드에서 만든 정보들을 함수에 간단하게 적용해보세요!\n",
        "        # nms에 필요한 인자: [NMS할 box의 lists, confidence score의 lists, label의 list, iou에 사용할 threshold]\n",
        "        boxes, scores, labels = nms(boxes_list, scores_list, labels_list, iou_thr=iou_thr)\n",
        "        for box, score, label in zip(boxes, scores, labels):\n",
        "            prediction_string += str(label) + ' ' + str(score) + ' ' + str(box[0] * image_info['width']) + ' ' + str(box[1] * image_info['height']) + ' ' + str(box[2] * image_info['width']) + ' ' + str(box[3] * image_info['height']) + ' '\n",
        "\n",
        "    prediction_strings.append(prediction_string)\n",
        "    file_names.append(image_id)"
      ]
    },
    {
      "cell_type": "code",
      "execution_count": 10,
      "metadata": {
        "id": "K1QwofbNCFb5"
      },
      "outputs": [
        {
          "data": {
            "text/html": [
              "<div>\n",
              "<style scoped>\n",
              "    .dataframe tbody tr th:only-of-type {\n",
              "        vertical-align: middle;\n",
              "    }\n",
              "\n",
              "    .dataframe tbody tr th {\n",
              "        vertical-align: top;\n",
              "    }\n",
              "\n",
              "    .dataframe thead th {\n",
              "        text-align: right;\n",
              "    }\n",
              "</style>\n",
              "<table border=\"1\" class=\"dataframe\">\n",
              "  <thead>\n",
              "    <tr style=\"text-align: right;\">\n",
              "      <th></th>\n",
              "      <th>PredictionString</th>\n",
              "      <th>image_id</th>\n",
              "    </tr>\n",
              "  </thead>\n",
              "  <tbody>\n",
              "    <tr>\n",
              "      <th>0</th>\n",
              "      <td>0 0.24645094573497772 242.52542114257812 683.2...</td>\n",
              "      <td>test/0000.jpg</td>\n",
              "    </tr>\n",
              "    <tr>\n",
              "      <th>1</th>\n",
              "      <td>0 0.45437225699424744 713.5231323242188 648.64...</td>\n",
              "      <td>test/0001.jpg</td>\n",
              "    </tr>\n",
              "    <tr>\n",
              "      <th>2</th>\n",
              "      <td>0 0.3595143258571625 655.670166015625 288.0221...</td>\n",
              "      <td>test/0002.jpg</td>\n",
              "    </tr>\n",
              "    <tr>\n",
              "      <th>3</th>\n",
              "      <td>0 0.45486128330230713 0.0 442.3086242675781 17...</td>\n",
              "      <td>test/0003.jpg</td>\n",
              "    </tr>\n",
              "    <tr>\n",
              "      <th>4</th>\n",
              "      <td>0 0.6036637425422668 193.4078826904297 346.774...</td>\n",
              "      <td>test/0004.jpg</td>\n",
              "    </tr>\n",
              "  </tbody>\n",
              "</table>\n",
              "</div>"
            ],
            "text/plain": [
              "                                    PredictionString       image_id\n",
              "0  0 0.24645094573497772 242.52542114257812 683.2...  test/0000.jpg\n",
              "1  0 0.45437225699424744 713.5231323242188 648.64...  test/0001.jpg\n",
              "2  0 0.3595143258571625 655.670166015625 288.0221...  test/0002.jpg\n",
              "3  0 0.45486128330230713 0.0 442.3086242675781 17...  test/0003.jpg\n",
              "4  0 0.6036637425422668 193.4078826904297 346.774...  test/0004.jpg"
            ]
          },
          "execution_count": 10,
          "metadata": {},
          "output_type": "execute_result"
        }
      ],
      "source": [
        "submission = pd.DataFrame()\n",
        "submission['PredictionString'] = prediction_strings\n",
        "submission['image_id'] = file_names\n",
        "submission.to_csv('../sample_submission/submission_ensemble2.csv', index=False)\n",
        "submission.head()"
      ]
    },
    {
      "cell_type": "markdown",
      "metadata": {
        "id": "KDt7NuQaaRmZ"
      },
      "source": [
        "### Required Package\n",
        "테스트 실행 환경 (google colab 기준)\n",
        "```\n",
        "numpy==1.26.4\n",
        "torch==2.3.1+cu121\n",
        "pandas==2.1.4\n",
        "pycocotools==2.0.8\n",
        "```\n",
        "\n"
      ]
    },
    {
      "cell_type": "markdown",
      "metadata": {
        "id": "pj76TIByCsPr"
      },
      "source": [
        "### Reference\n",
        "https://github.com/ZFTurbo/Weighted-Boxes-Fusion"
      ]
    },
    {
      "cell_type": "markdown",
      "metadata": {
        "id": "VFJDriTsCFb6"
      },
      "source": [
        "###**콘텐츠 라이선스**\n",
        "\n",
        "<font color='red'><b>**WARNING**</b></font> : **본 교육 콘텐츠의 지식재산권은 재단법인 네이버커넥트에 귀속됩니다. 본 콘텐츠를 어떠한 경로로든 외부로 유출 및 수정하는 행위를 엄격히 금합니다.** 다만, 비영리적 교육 및 연구활동에 한정되어 사용할 수 있으나 재단의 허락을 받아야 합니다. 이를 위반하는 경우, 관련 법률에 따라 책임을 질 수 있습니다.\n"
      ]
    }
  ],
  "metadata": {
    "colab": {
      "provenance": []
    },
    "kernelspec": {
      "display_name": "base",
      "language": "python",
      "name": "python3"
    },
    "language_info": {
      "codemirror_mode": {
        "name": "ipython",
        "version": 3
      },
      "file_extension": ".py",
      "mimetype": "text/x-python",
      "name": "python",
      "nbconvert_exporter": "python",
      "pygments_lexer": "ipython3",
      "version": "3.10.13"
    }
  },
  "nbformat": 4,
  "nbformat_minor": 0
}
