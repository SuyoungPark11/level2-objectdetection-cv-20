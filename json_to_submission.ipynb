{
 "cells": [
  {
   "cell_type": "code",
   "execution_count": 9,
   "metadata": {},
   "outputs": [],
   "source": [
    "import json\n",
    "import os\n",
    "import pandas as pd\n",
    "from pycocotools.coco import COCO"
   ]
  },
  {
   "cell_type": "code",
   "execution_count": 128,
   "metadata": {},
   "outputs": [],
   "source": [
    "# submission 양식에 맞게 output 후처리\n",

    "def json_to_submission(json_file_path, submission_path, output_path, output_file_name, score_thr,test=True):\n",
    "\n",
    "    with open(json_file_path, 'r') as f:\n",
    "        data = json.load(f)\n",
    "\n",
    "    coco = COCO(submission_path)\n",
    "    img_ids = coco.getImgIds()\n",
    "\n",
    "    prediction_strings = ['' for _ in range(len(img_ids))]\n",
    "    if test:\n",
    "        file_names = [f'test/{str(img_id).zfill(4)}.jpg' for img_id in range(len(img_ids))]\n",
    "    else:\n",
    "        file_names = [f'train/{str(img_id).zfill(4)}.jpg' for img_id in range(len(img_ids))]\n",
    "    for info in data:\n",
    "\n",
    "        img_id = info['image_id']\n",
    "        xmin, ymin, w, h = info['bbox']\n",
    "        xmax, ymax = xmin+w, ymin+h\n",
    "        score = info['score']\n",
    "        cate_id = info['category_id']\n",
    "\n",
    "        if score < score_thr:\n",
    "            continue\n",
    "\n",
    "        prediction_list = map(str, [cate_id, score, xmin, ymin, xmax, ymax])\n",
    "        prediction_string = ' '.join(prediction_list) + ' '\n",
    "\n",
    "        prediction_strings[img_id] += prediction_string\n",
    "\n",
    "\n",
    "    submission = pd.DataFrame()\n",
    "    submission['PredictionString'] = prediction_strings\n",
    "    submission['image_id'] = file_names\n",
    "\n",
    "    submission.to_csv(os.path.join(output_path, output_file_name), index=None)\n",
    "    print(submission.head())\n",
    "    print(submission.tail())"
   ]
  },
  {
   "cell_type": "code",

   "execution_count": 133,

   "metadata": {},
   "outputs": [
    {
     "name": "stdout",
     "output_type": "stream",
     "text": [
      "loading annotations into memory...\n",
      "Done (t=0.09s)\n",
      "creating index...\n",
      "index created!\n",
      "                                    PredictionString        image_id\n",
      "0  0 0.8503260016441345 200.0750732421875 194.718...  train/0000.jpg\n",
      "1  4 0.7346956729888916 730.5899047851562 314.497...  train/0001.jpg\n",
      "2  3 0.8661016225814819 269.3987731933594 165.407...  train/0002.jpg\n",
      "3  2 0.8895310759544373 463.60284423828125 368.44...  train/0003.jpg\n",
      "4  1 0.7084575891494751 481.79339599609375 464.47...  train/0004.jpg\n",
      "                                       PredictionString        image_id\n",
      "4878  0 0.8422749042510986 380.36224365234375 370.90...  train/4878.jpg\n",
      "4879  7 0.8381984829902649 483.37432861328125 640.56...  train/4879.jpg\n",
      "4880  0 0.8522360324859619 198.9588623046875 212.132...  train/4880.jpg\n",
      "4881  7 0.8725916147232056 153.0755615234375 469.776...  train/4881.jpg\n",
      "4882  5 0.8223598003387451 5.93878173828125 124.9717...  train/4882.jpg\n"

     ]
    }
   ],
   "source": [

    "json_file_path = './mmdetection/work_dirs/ddq_recycle/result/ddq_train_tta.bbox.json'\n",
    "submission_path = './dataset/train.json'\n",
    "output_path = './submission'\n",
    "output_file_name = 'ddq_result_train_tta_0.05.csv'\n",
    "score_thr = 0.05\n",
    "\n",
    "json_to_submission(json_file_path, submission_path, output_path, output_file_name, score_thr, test=False)"

   ]
  }
 ],
 "metadata": {
  "kernelspec": {
   "display_name": "base",
   "language": "python",
   "name": "python3"
  },
  "language_info": {
   "codemirror_mode": {
    "name": "ipython",
    "version": 3
   },
   "file_extension": ".py",
   "mimetype": "text/x-python",
   "name": "python",
   "nbconvert_exporter": "python",
   "pygments_lexer": "ipython3",
   "version": "3.10.13"
  }
 },
 "nbformat": 4,
 "nbformat_minor": 2
}
