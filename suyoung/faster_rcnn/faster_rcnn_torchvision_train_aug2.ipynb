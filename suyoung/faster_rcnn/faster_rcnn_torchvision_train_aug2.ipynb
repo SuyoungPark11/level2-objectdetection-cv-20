{
 "cells": [
  {
   "cell_type": "markdown",
   "metadata": {},
   "source": [
    "# Library Import"
   ]
  },
  {
   "cell_type": "code",
   "execution_count": 1,
   "metadata": {},
   "outputs": [],
   "source": [
    "from pycocotools.coco import COCO\n",
    "from pycocotools.cocoeval import COCOeval\n",
    "import numpy as np\n",
    "import cv2\n",
    "import os\n",
    "\n",
    "import albumentations as A\n",
    "from albumentations.pytorch import ToTensorV2\n",
    "\n",
    "import torch\n",
    "# faster rcnn model이 포함된 library\n",
    "import torchvision\n",
    "\n",
    "from torchvision.models.detection.faster_rcnn import FastRCNNPredictor\n",
    "\n",
    "from torch.utils.data import DataLoader, Dataset\n",
    "import pandas as pd\n",
    "import random\n",
    "from tqdm import tqdm"
   ]
  },
  {
   "cell_type": "markdown",
   "metadata": {},
   "source": [
    "# Dataset 생성"
   ]
  },
  {
   "cell_type": "code",
   "execution_count": 57,
   "metadata": {},
   "outputs": [],
   "source": [
    "class CustomDataset(Dataset):\n",
    "    '''\n",
    "      data_dir: data가 존재하는 폴더 경로\n",
    "      transforms: data transform (resize, crop, Totensor, etc,,,)\n",
    "    '''\n",
    "\n",
    "    def __init__(self, annotation, data_dir, transforms=None, mosaic=False):\n",
    "        super().__init__()\n",
    "        self.data_dir = data_dir\n",
    "        self.coco = COCO(annotation)\n",
    "        self.predictions = {\n",
    "            \"images\": self.coco.dataset[\"images\"].copy(),\n",
    "            \"categories\": self.coco.dataset[\"categories\"].copy(),\n",
    "            \"annotations\": None\n",
    "        }\n",
    "        self.transforms = transforms\n",
    "        self.mosaic = mosaic\n",
    "\n",
    "    def __getitem__(self, index: int):\n",
    "        if self.mosaic:                   # and random.random() <= 0.5:\n",
    "            return self.load_mosaic(index)\n",
    "        else:\n",
    "            return self.load_image_target(index)\n",
    "\n",
    "    def load_image_target(self, index):\n",
    "        image_id = self.coco.getImgIds(imgIds=index)\n",
    "\n",
    "        image_info = self.coco.loadImgs(image_id)[0]\n",
    "\n",
    "        image = cv2.imread(os.path.join(self.data_dir, image_info['file_name']))\n",
    "        image = cv2.cvtColor(image, cv2.COLOR_BGR2RGB).astype(np.float32)\n",
    "        image /= 255.0\n",
    "\n",
    "        ann_ids = self.coco.getAnnIds(imgIds=image_info['id'])\n",
    "        anns = self.coco.loadAnns(ann_ids)\n",
    "\n",
    "        boxes = np.array([x['bbox'] for x in anns])\n",
    "\n",
    "        # boxes (x_min, y_min, x_max, y_max)\n",
    "        boxes[:, 2] = boxes[:, 0] + boxes[:, 2]\n",
    "        boxes[:, 3] = boxes[:, 1] + boxes[:, 3]\n",
    "\n",
    "        # torchvision faster_rcnn은 label=0을 background로 취급\n",
    "        # torchvision 사용하는 경우 class_id를 1~10으로 수정 필요\n",
    "        labels = np.array([x['category_id']+1 for x in anns])\n",
    "        labels = torch.as_tensor(labels, dtype=torch.int64)\n",
    "\n",
    "        # areas = np.array([x['area'] for x in anns])\n",
    "        # areas = torch.as_tensor(areas, dtype=torch.float32)\n",
    "\n",
    "        # is_crowds = np.array([x['iscrowd'] for x in anns])\n",
    "        # is_crowds = torch.as_tensor(is_crowds, dtype=torch.int64)\n",
    "        target = {'boxes': boxes, 'labels': labels, 'image_id': torch.tensor([index])}\n",
    "\n",
    "        # transform\n",
    "        if self.transforms :\n",
    "            sample = {\n",
    "                'image': image,\n",
    "                'bboxes': target['boxes'],\n",
    "                'labels': labels\n",
    "            }\n",
    "            sample = self.transforms(**sample)\n",
    "            image = sample['image']\n",
    "            target['boxes'] = torch.tensor(sample['bboxes'], dtype=torch.float32)\n",
    "        return image, target, image_id\n",
    "\n",
    "    def load_mosaic(self, index):\n",
    "        # Mosaic에서 사용할 4장의 이미지를 선택\n",
    "        indices = [index] + [random.randint(0, len(self.coco.getImgIds())-1) for _ in range(3)]\n",
    "        images = []\n",
    "        final_boxes = []\n",
    "        final_labels = []\n",
    "\n",
    "        s = 1024  # 기본 크기 (전체 Mosaic 이미지 크기)\n",
    "        mosaic_img = np.zeros((s, s, 3), dtype=np.float32)\n",
    "        xc, yc = np.random.randint(s * 0.25, s * 0.75, (2,))\n",
    "\n",
    "        # Load images\n",
    "        for i, idx in enumerate(indices):\n",
    "            image_id = self.coco.getImgIds(imgIds=idx)\n",
    "            image_info = self.coco.loadImgs(image_id)[0]\n",
    "            image = cv2.imread(os.path.join(self.data_dir, image_info['file_name']))\n",
    "            image = cv2.cvtColor(image, cv2.COLOR_BGR2RGB).astype(np.float32)\n",
    "            image /= 255.0\n",
    "\n",
    "            ann_ids = self.coco.getAnnIds(imgIds=image_info['id'])\n",
    "            anns = self.coco.loadAnns(ann_ids)\n",
    "\n",
    "            boxes = np.array([x['bbox'] for x in anns])\n",
    "\n",
    "            # boxes (x_min, y_min, x_max, y_max)\n",
    "            boxes[:, 2] = boxes[:, 0] + boxes[:, 2]\n",
    "            boxes[:, 3] = boxes[:, 1] + boxes[:, 3]\n",
    "\n",
    "            # torchvision faster_rcnn은 label=0을 background로 취급\n",
    "            # torchvision 사용하는 경우 class_id를 1~10으로 수정 필요\n",
    "            labels = np.array([x['category_id']+1 for x in anns])\n",
    "            labels = torch.as_tensor(labels, dtype=torch.int64)\n",
    "\n",
    "            h, w = image.shape[:2]\n",
    "\n",
    "            if not isinstance(image, np.ndarray):\n",
    "                image = image.cpu().numpy().transpose(1,2,0)\n",
    "\n",
    "            # 각각의 이미지를 중앙 기준으로 배치\n",
    "            if i == 0:  # top-left\n",
    "                x1a, y1a, x2a, y2a = 0, 0, xc, yc\n",
    "                x1b, y1b, x2b, y2b = s - xc, s - yc, s, s\n",
    "            elif i == 1:  # top-right\n",
    "                x1a, y1a, x2a, y2a = xc, 0, s, yc\n",
    "                x1b, y1b, x2b, y2b = 0, s - yc, s - xc, s\n",
    "            elif i == 2:  # bottom-left\n",
    "                x1a, y1a, x2a, y2a = 0, yc, xc, s\n",
    "                x1b, y1b, x2b, y2b = s - xc, 0, s, s-yc\n",
    "            elif i == 3:  # bottom-right\n",
    "                x1a, y1a, x2a, y2a = xc, yc, s, s\n",
    "                x1b, y1b, x2b, y2b = 0, 0, s-xc, s-yc\n",
    "\n",
    "            offset_x = x1a - x1b\n",
    "            offset_y = y1a - y1b\n",
    "\n",
    "            boxes[:, 0] += offset_x\n",
    "            boxes[:, 1] += offset_y\n",
    "            boxes[:, 2] += offset_x\n",
    "            boxes[:, 3] += offset_y\n",
    "\n",
    "            # 이미지 배치\n",
    "            mosaic_img[y1a:y2a, x1a:x2a] = image[y1b:y2b, x1b:x2b]\n",
    "            final_boxes.append(boxes)\n",
    "            final_labels.append(labels)\n",
    "\n",
    "        mosaic_img = torch.tensor(mosaic_img, dtype=torch.float32).permute(2,0,1)\n",
    "\n",
    "        # 합친 이미지 생성\n",
    "        final_boxes = np.vstack(final_boxes)\n",
    "        final_boxes[:, 0:] = np.clip(final_boxes[:, 0:], 0, s).astype(np.int32)\n",
    "\n",
    "        final_labels = np.concatenate(final_labels, axis=0)\n",
    "\n",
    "        # (xmin = 0 & xmax =0) | (ymin = 0 & ymax=0) 제외\n",
    "        delete_list = []\n",
    "        for i in range(len(final_boxes)):\n",
    "            if final_boxes[i][0] == final_boxes[i][2] or final_boxes[i][1] == final_boxes[i][3]:\n",
    "                delete_list.append(i)\n",
    "\n",
    "        final_boxes = np.delete(final_boxes, delete_list, axis=0)\n",
    "        final_labels = np.delete(final_labels, delete_list, axis=0)\n",
    "\n",
    "        target = {'boxes': torch.tensor(final_boxes, dtype=torch.float32), \n",
    "                  'labels': torch.as_tensor(final_labels, dtype=torch.int64), \n",
    "                  'image_id': torch.tensor([index])}\n",
    "        \n",
    "        # transform\n",
    "        if self.transforms :\n",
    "            sample = {\n",
    "                'image': image,\n",
    "                'bboxes': target['boxes'],\n",
    "                'labels': labels\n",
    "            }\n",
    "            sample = self.transforms(**sample)\n",
    "            image = sample['image']\n",
    "            target['boxes'] = torch.tensor(sample['bboxes'], dtype=torch.float32)\n",
    "\n",
    "        return mosaic_img, target, index\n",
    "\n",
    "    def __len__(self) -> int:\n",
    "        return len(self.coco.getImgIds())"
   ]
  },
  {
   "cell_type": "code",
   "execution_count": 4,
   "metadata": {},
   "outputs": [],
   "source": [
    "def get_train_transform():\n",
    "    return A.Compose([\n",
    "        A.HorizontalFlip(p=0.5),\n",
    "        A.VerticalFlip(p=0.5),\n",
    "        A.RandomSizedBBoxSafeCrop(height=300, width=300, p=0.5),\n",
    "        A.HueSaturationValue(hue_shift_limit=(-20/180, 20/180), \n",
    "                             sat_shift_limit=(-30/255, 30/255), \n",
    "                             val_shift_limit=(-20/255, 20/255), p=0.5),\n",
    "        A.Resize(1024, 1024), \n",
    "        ToTensorV2(p=1.0)\n",
    "    ], bbox_params={'format': 'pascal_voc', 'label_fields': ['labels']})\n",
    "\n",
    "\n",
    "def get_valid_transform():\n",
    "    return A.Compose([\n",
    "        ToTensorV2(p=1.0)\n",
    "    ], bbox_params={'format': 'pascal_voc', 'label_fields': ['labels']})"
   ]
  },
  {
   "cell_type": "markdown",
   "metadata": {},
   "source": [
    "# Util Functions"
   ]
  },
  {
   "cell_type": "code",
   "execution_count": 58,
   "metadata": {},
   "outputs": [],
   "source": [
    "class Averager:\n",
    "    def __init__(self):\n",
    "        self.current_total = 0.0\n",
    "        self.iterations = 0.0\n",
    "\n",
    "    def send(self, value):\n",
    "        self.current_total += value\n",
    "        self.iterations += 1\n",
    "\n",
    "    @property\n",
    "    def value(self):\n",
    "        if self.iterations == 0:\n",
    "            return 0\n",
    "        else:\n",
    "            return 1.0 * self.current_total / self.iterations\n",
    "\n",
    "    def reset(self):\n",
    "        self.current_total = 0.0\n",
    "        self.iterations = 0.0\n",
    "\n",
    "\n",
    "def collate_fn(batch):\n",
    "    return tuple(zip(*batch))"
   ]
  },
  {
   "cell_type": "markdown",
   "metadata": {},
   "source": [
    "# Trainer"
   ]
  },
  {
   "cell_type": "code",
   "execution_count": 59,
   "metadata": {},
   "outputs": [],
   "source": [
    "def train_fn(num_epochs, train_data_loader, optimizer, model, device):\n",
    "    best_loss = 1000\n",
    "    loss_hist = Averager()\n",
    "    for epoch in range(num_epochs):\n",
    "        loss_hist.reset()\n",
    "\n",
    "        for images, targets, image_ids in tqdm(train_data_loader):\n",
    "            # gpu 계산을 위해 image.to(device)\n",
    "            images = list(image.float().to(device) for image in images)\n",
    "            targets = [{k: v.to(device) for k, v in t.items()} for t in targets]\n",
    "\n",
    "            # calculate loss\n",
    "            loss_dict = model(images, targets)\n",
    "\n",
    "            losses = sum(loss for loss in loss_dict.values())\n",
    "            loss_value = losses.item()\n",
    "\n",
    "            loss_hist.send(loss_value)\n",
    "\n",
    "            # backward\n",
    "            optimizer.zero_grad()\n",
    "            losses.backward()\n",
    "            optimizer.step()\n",
    "\n",
    "        print(f\"Epoch #{epoch+1} loss: {loss_hist.value}\")\n",
    "        if loss_hist.value < best_loss:\n",
    "            save_path = './checkpoints/faster_rcnn_torchvision_checkpoints.pth'\n",
    "            save_dir = os.path.dirname(save_path)\n",
    "            if not os.path.exists(save_dir):\n",
    "                os.makedirs(save_dir)\n",
    "            \n",
    "            torch.save(model.state_dict(), save_path)\n",
    "            best_loss = loss_hist.value"
   ]
  },
  {
   "cell_type": "markdown",
   "metadata": {},
   "source": [
    "# Main"
   ]
  },
  {
   "cell_type": "code",
   "execution_count": 60,
   "metadata": {},
   "outputs": [],
   "source": [
    "def main():\n",
    "    # 데이터셋 불러오기\n",
    "    annotation = '../../dataset/train.json' # annotation 경로\n",
    "    data_dir = '../../dataset' # data_dir 경로\n",
    "    train_dataset = CustomDataset(annotation, data_dir, get_valid_transform(), mosaic=True) \n",
    "    train_data_loader = DataLoader(\n",
    "        train_dataset,\n",
    "        batch_size=16,\n",
    "        shuffle=False,\n",
    "        num_workers=0,\n",
    "        collate_fn=collate_fn\n",
    "    )\n",
    "    device = torch.device('cuda') if torch.cuda.is_available() else torch.device('cpu')\n",
    "    print(device)\n",
    "    \n",
    "    # torchvision model 불러오기\n",
    "    model = torchvision.models.detection.fasterrcnn_resnet50_fpn(pretrained=True)\n",
    "    num_classes = 11 # class 개수= 10 + background\n",
    "    # get number of input features for the classifier\n",
    "    in_features = model.roi_heads.box_predictor.cls_score.in_features\n",
    "    model.roi_heads.box_predictor = FastRCNNPredictor(in_features, num_classes)\n",
    "    model.to(device)\n",
    "    params = [p for p in model.parameters() if p.requires_grad]\n",
    "    \n",
    "    optimizer = torch.optim.SGD(params, lr=0.005, momentum=0.9, weight_decay=0.0005)\n",
    "    num_epochs = 12\n",
    "    \n",
    "    # training\n",
    "    train_fn(num_epochs, train_data_loader, optimizer, model, device)"
   ]
  },
  {
   "cell_type": "code",
   "execution_count": 61,
   "metadata": {},
   "outputs": [
    {
     "name": "stdout",
     "output_type": "stream",
     "text": [
      "loading annotations into memory...\n",
      "Done (t=0.07s)\n",
      "creating index...\n",
      "index created!\n",
      "cuda\n"
     ]
    },
    {
     "name": "stderr",
     "output_type": "stream",
     "text": [
      "/opt/conda/lib/python3.10/site-packages/torchvision/models/_utils.py:208: UserWarning: The parameter 'pretrained' is deprecated since 0.13 and will be removed in 0.15, please use 'weights' instead.\n",
      "  warnings.warn(\n",
      "/opt/conda/lib/python3.10/site-packages/torchvision/models/_utils.py:223: UserWarning: Arguments other than a weight enum or `None` for 'weights' are deprecated since 0.13 and will be removed in 0.15. The current behavior is equivalent to passing `weights=FasterRCNN_ResNet50_FPN_Weights.COCO_V1`. You can also use `weights=FasterRCNN_ResNet50_FPN_Weights.DEFAULT` to get the most up-to-date weights.\n",
      "  warnings.warn(msg)\n",
      "  0%|          | 0/306 [00:00<?, ?it/s]/tmp/ipykernel_115203/451716572.py:162: UserWarning: To copy construct from a tensor, it is recommended to use sourceTensor.clone().detach() or sourceTensor.clone().detach().requires_grad_(True), rather than torch.tensor(sourceTensor).\n",
      "  target['boxes'] = torch.tensor(sample['bboxes'], dtype=torch.float32)\n",
      "100%|██████████| 306/306 [05:55<00:00,  1.16s/it]\n"
     ]
    },
    {
     "name": "stdout",
     "output_type": "stream",
     "text": [
      "Epoch #1 loss: 1.3258958700435612\n"
     ]
    },
    {
     "name": "stderr",
     "output_type": "stream",
     "text": [
      "100%|██████████| 306/306 [05:54<00:00,  1.16s/it]\n"
     ]
    },
    {
     "name": "stdout",
     "output_type": "stream",
     "text": [
      "Epoch #2 loss: 1.1302888311591803\n"
     ]
    },
    {
     "name": "stderr",
     "output_type": "stream",
     "text": [
      "100%|██████████| 306/306 [05:53<00:00,  1.16s/it]\n"
     ]
    },
    {
     "name": "stdout",
     "output_type": "stream",
     "text": [
      "Epoch #3 loss: 1.0862417369107016\n"
     ]
    },
    {
     "name": "stderr",
     "output_type": "stream",
     "text": [
      "100%|██████████| 306/306 [05:57<00:00,  1.17s/it]\n"
     ]
    },
    {
     "name": "stdout",
     "output_type": "stream",
     "text": [
      "Epoch #4 loss: 1.046817259461272\n"
     ]
    },
    {
     "name": "stderr",
     "output_type": "stream",
     "text": [
      "100%|██████████| 306/306 [05:54<00:00,  1.16s/it]\n"
     ]
    },
    {
     "name": "stdout",
     "output_type": "stream",
     "text": [
      "Epoch #5 loss: 1.0269290062726713\n"
     ]
    },
    {
     "name": "stderr",
     "output_type": "stream",
     "text": [
      "100%|██████████| 306/306 [05:52<00:00,  1.15s/it]\n"
     ]
    },
    {
     "name": "stdout",
     "output_type": "stream",
     "text": [
      "Epoch #6 loss: 1.005059411128362\n"
     ]
    },
    {
     "name": "stderr",
     "output_type": "stream",
     "text": [
      "100%|██████████| 306/306 [05:53<00:00,  1.15s/it]\n"
     ]
    },
    {
     "name": "stdout",
     "output_type": "stream",
     "text": [
      "Epoch #7 loss: 0.9829955958073435\n"
     ]
    },
    {
     "name": "stderr",
     "output_type": "stream",
     "text": [
      "100%|██████████| 306/306 [05:56<00:00,  1.16s/it]\n"
     ]
    },
    {
     "name": "stdout",
     "output_type": "stream",
     "text": [
      "Epoch #8 loss: 0.9708390968297821\n"
     ]
    },
    {
     "name": "stderr",
     "output_type": "stream",
     "text": [
      "100%|██████████| 306/306 [05:54<00:00,  1.16s/it]\n"
     ]
    },
    {
     "name": "stdout",
     "output_type": "stream",
     "text": [
      "Epoch #9 loss: 0.9463226425102333\n"
     ]
    },
    {
     "name": "stderr",
     "output_type": "stream",
     "text": [
      "100%|██████████| 306/306 [05:52<00:00,  1.15s/it]\n"
     ]
    },
    {
     "name": "stdout",
     "output_type": "stream",
     "text": [
      "Epoch #10 loss: 0.9393350563797296\n"
     ]
    },
    {
     "name": "stderr",
     "output_type": "stream",
     "text": [
      "100%|██████████| 306/306 [05:55<00:00,  1.16s/it]\n"
     ]
    },
    {
     "name": "stdout",
     "output_type": "stream",
     "text": [
      "Epoch #11 loss: 0.9346041048274321\n"
     ]
    },
    {
     "name": "stderr",
     "output_type": "stream",
     "text": [
      "100%|██████████| 306/306 [05:52<00:00,  1.15s/it]\n"
     ]
    },
    {
     "name": "stdout",
     "output_type": "stream",
     "text": [
      "Epoch #12 loss: 0.9213630613548304\n"
     ]
    }
   ],
   "source": [
    "if __name__ == '__main__':\n",
    "    main()"
   ]
  }
 ],
 "metadata": {
  "kernelspec": {
   "display_name": "base",
   "language": "python",
   "name": "python3"
  },
  "language_info": {
   "codemirror_mode": {
    "name": "ipython",
    "version": 3
   },
   "file_extension": ".py",
   "mimetype": "text/x-python",
   "name": "python",
   "nbconvert_exporter": "python",
   "pygments_lexer": "ipython3",
   "version": "3.10.13"
  }
 },
 "nbformat": 4,
 "nbformat_minor": 4
}
